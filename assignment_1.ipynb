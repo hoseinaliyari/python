{
 "cells": [
  {
   "cell_type": "code",
   "execution_count": 12,
   "metadata": {},
   "outputs": [
    {
     "data": {
      "text/plain": [
       "True"
      ]
     },
     "execution_count": 12,
     "metadata": {},
     "output_type": "execute_result"
    }
   ],
   "source": [
    "def anagram_checker(word_a, word_b):\n",
    "\n",
    "    # assume that the words are anagrams unless proven otherwise\n",
    "    are_anagrams = True\n",
    "\n",
    "    word_a= word_a.lower()\n",
    "    word_b= word_b.lower()\n",
    "\n",
    "    # since strings are iterable, check the existance of each character of one word in the other\n",
    "    for char in word_a:\n",
    "        if char not in word_b:\n",
    "            are_anagrams = False\n",
    "            break\n",
    "\n",
    "    return are_anagrams\n",
    "\n",
    "anagram_checker(\"Silent\", \"listen\")"
   ]
  },
  {
   "cell_type": "code",
   "execution_count": 11,
   "metadata": {},
   "outputs": [
    {
     "data": {
      "text/plain": [
       "False"
      ]
     },
     "execution_count": 11,
     "metadata": {},
     "output_type": "execute_result"
    }
   ],
   "source": [
    "anagram_checker(\"Silent\", \"Night\")"
   ]
  },
  {
   "cell_type": "code",
   "execution_count": 14,
   "metadata": {},
   "outputs": [
    {
     "data": {
      "text/plain": [
       "True"
      ]
     },
     "execution_count": 14,
     "metadata": {},
     "output_type": "execute_result"
    }
   ],
   "source": [
    "anagram_checker(\"night\", \"Thing\")"
   ]
  },
  {
   "cell_type": "code",
   "execution_count": 10,
   "metadata": {},
   "outputs": [
    {
     "data": {
      "text/plain": [
       "True"
      ]
     },
     "execution_count": 10,
     "metadata": {},
     "output_type": "execute_result"
    }
   ],
   "source": [
    "def anagram_checker(word_a, word_b):\n",
    "\n",
    "    # assume that the words are anagrams unless proven otherwise\n",
    "    are_anagrams = True\n",
    "\n",
    "    word_a= word_a.lower()\n",
    "    word_b= word_b.lower()\n",
    "\n",
    "    # since strings are iterable, check the existance of each character of one word in the other\n",
    "    for char in word_a:\n",
    "        if char not in word_b:\n",
    "            are_anagrams = False\n",
    "            break\n",
    "\n",
    "    # with repetitive characters in word_a such as 'iiiii' any word_b with that contains an 'i' would be counted anagarams,\n",
    "    # this can be cought by checking word_b over word_a    \n",
    "    for char in word_b:\n",
    "        if char not in word_a:\n",
    "            are_anagrams = False\n",
    "            break\n",
    "\n",
    "    return are_anagrams\n",
    "\n",
    "anagram_checker(\"Silent\", \"listen\")"
   ]
  },
  {
   "cell_type": "code",
   "execution_count": 11,
   "metadata": {},
   "outputs": [
    {
     "data": {
      "text/plain": [
       "False"
      ]
     },
     "execution_count": 11,
     "metadata": {},
     "output_type": "execute_result"
    }
   ],
   "source": [
    "anagram_checker(\"Silent\", \"Night\")"
   ]
  },
  {
   "cell_type": "code",
   "execution_count": 13,
   "metadata": {},
   "outputs": [
    {
     "data": {
      "text/plain": [
       "True"
      ]
     },
     "execution_count": 13,
     "metadata": {},
     "output_type": "execute_result"
    }
   ],
   "source": [
    "anagram_checker(\"night\", \"Thing\")"
   ]
  },
  {
   "cell_type": "markdown",
   "metadata": {},
   "source": [
    "and to add the option to decide if being lower case or upper case should be a factor:"
   ]
  },
  {
   "cell_type": "code",
   "execution_count": 2,
   "metadata": {},
   "outputs": [
    {
     "data": {
      "text/plain": [
       "True"
      ]
     },
     "execution_count": 2,
     "metadata": {},
     "output_type": "execute_result"
    }
   ],
   "source": [
    "def anagram_checker(word_a, word_b, is_case_sensitive):\n",
    "\n",
    "    # assume that the words are anagrams unless proven otherwise\n",
    "    are_anagrams = True\n",
    "\n",
    "    if not is_case_sensitive:\n",
    "        word_a= word_a.lower()\n",
    "        word_b= word_b.lower()\n",
    "\n",
    "    # since strings are iterable, check the existance of each character of one word in the other\n",
    "    for char in word_a:\n",
    "        if char not in word_b:\n",
    "            are_anagrams = False\n",
    "            break\n",
    "\n",
    "    # with repetitive characters in word_a such as 'iiiii' any word_b with that contains an 'i' would be counted anagarams,\n",
    "    # this can be cought by checking word_b over word_a    \n",
    "    for char in word_b:\n",
    "        if char not in word_a:\n",
    "            are_anagrams = False\n",
    "            break\n",
    "\n",
    "    return are_anagrams\n",
    "\n",
    "anagram_checker(\"Silent\", \"listen\", False)"
   ]
  },
  {
   "cell_type": "code",
   "execution_count": 17,
   "metadata": {},
   "outputs": [
    {
     "data": {
      "text/plain": [
       "False"
      ]
     },
     "execution_count": 17,
     "metadata": {},
     "output_type": "execute_result"
    }
   ],
   "source": [
    "anagram_checker(\"Silent\", \"listen\", True)"
   ]
  },
  {
   "cell_type": "code",
   "execution_count": 4,
   "metadata": {},
   "outputs": [
    {
     "data": {
      "text/plain": [
       "True"
      ]
     },
     "execution_count": 4,
     "metadata": {},
     "output_type": "execute_result"
    }
   ],
   "source": [
    "anagram_checker(\"night\", \"THING\", False)"
   ]
  }
 ],
 "metadata": {
  "kernelspec": {
   "display_name": "base",
   "language": "python",
   "name": "python3"
  },
  "language_info": {
   "codemirror_mode": {
    "name": "ipython",
    "version": 3
   },
   "file_extension": ".py",
   "mimetype": "text/x-python",
   "name": "python",
   "nbconvert_exporter": "python",
   "pygments_lexer": "ipython3",
   "version": "3.9.19"
  }
 },
 "nbformat": 4,
 "nbformat_minor": 2
}
